{
 "cells": [
  {
   "cell_type": "markdown",
   "metadata": {},
   "source": [
    "# Evaluation of multi-cell experiments"
   ]
  },
  {
   "cell_type": "markdown",
   "metadata": {},
   "source": [
    "The purpose of this notebook is to create plots for the multi-cell experiments were we analyze the optimal treatments for various values of lambda."
   ]
  },
  {
   "cell_type": "code",
   "execution_count": 1,
   "metadata": {},
   "outputs": [],
   "source": [
    "# Adapt path to allow imports from project\n",
    "import os\n",
    "os.chdir(\"..\")"
   ]
  },
  {
   "cell_type": "code",
   "execution_count": 2,
   "metadata": {},
   "outputs": [],
   "source": [
    "import time\n",
    "import pandas as pd\n",
    "import seaborn as sns\n",
    "from src.baseline.evaluate import build_combined_single_frame, build_combined_dual_frame, best_single_treatment, best_dual_treatment\n",
    "from src.baseline.evaluate import best_single_treatment_by_dosage, best_dual_treatment_by_dosage\n",
    "from src.search.evaluate_search import best_multi_search_result\n",
    "from src.env.cell_lines import retrieve_lines"
   ]
  },
  {
   "cell_type": "code",
   "execution_count": 3,
   "metadata": {},
   "outputs": [
    {
     "name": "stdout",
     "output_type": "stream",
     "text": [
      "Populating the interactive namespace from numpy and matplotlib\n"
     ]
    }
   ],
   "source": [
    "%pylab inline\n",
    "rcParams['font.family'] = 'serif'\n",
    "rcParams['font.sans-serif'] = ['ptm', 'Helvetica', 'Times New Roman']"
   ]
  },
  {
   "cell_type": "markdown",
   "metadata": {},
   "source": [
    "#### Configuration"
   ]
  },
  {
   "cell_type": "code",
   "execution_count": 4,
   "metadata": {},
   "outputs": [],
   "source": [
    "# param for retrieval\n",
    "LAMBDAS = np.arange(-7.0, -1.0 + 0.01, 0.25)\n",
    "OBJ = \"worst\"\n",
    "DOMAIN = \"simplex\""
   ]
  },
  {
   "cell_type": "code",
   "execution_count": 5,
   "metadata": {},
   "outputs": [],
   "source": [
    "# meta\n",
    "PATH_EVAL = \"./artifacts/evaluation/multi/\"\n",
    "PATH_DATA = \"./artifacts/multi/\"\n",
    "TISSUE = \"wmd\"\n",
    "# TISSUE = \"intestine\"\n",
    "THRESHOLD = 8000\n",
    "VERIFICATION = False"
   ]
  },
  {
   "cell_type": "markdown",
   "metadata": {},
   "source": [
    "#### Prepare Data"
   ]
  },
  {
   "cell_type": "code",
   "execution_count": 6,
   "metadata": {},
   "outputs": [],
   "source": [
    "# functions for data retrieval\n",
    "\n",
    "def get_data_search():\n",
    "    lambdas, proliferations, objectives, concentrations, treatments = [], [], [], [], []\n",
    "    for la in LAMBDAS:\n",
    "        # prepare prefix\n",
    "        if la == 12345:\n",
    "            lambd = 0\n",
    "            prefix = OBJ + \"_\" + DOMAIN + \"_\" + \"prolif\" + \"_cma_es\" # create prefix here and then give it to function\n",
    "        else: \n",
    "            prefix = OBJ + \"_\" + DOMAIN + \"_\" + str(la).replace(\".\", \"_\") + \"_cma_es\" # create prefix here and then give it to function\n",
    "            lambd = 10 ** la\n",
    "        treat, o_dos, o_pro, o_obj = best_multi_search_result(TISSUE, PATH_DATA, prefix, lambd=lambd, obj=OBJ, max_dosage=THRESHOLD, verification=VERIFICATION)\n",
    "        lambdas.append(lambd)\n",
    "        proliferations.append(o_pro)\n",
    "        objectives.append(o_obj)\n",
    "        concentrations.append(o_dos)\n",
    "        treatments.append(treat)\n",
    "        \n",
    "        if len(proliferations) % 5 == 0:\n",
    "            print(\"   ...%2d lambdas loaded...\" % len(lambdas))\n",
    "    return lambdas, proliferations, objectives, concentrations, treatments\n",
    "\n",
    "def get_data_single(lambdas):\n",
    "    comb_data = build_combined_single_frame(retrieve_lines(TISSUE))\n",
    "    proliferations, objectives, concentrations = [], [], []\n",
    "    for lambd in lambdas:\n",
    "        treat, s_dos, s_pro, s_obj = best_single_treatment(retrieve_lines(TISSUE), lambd=lambd, obj=OBJ, max_dosage=THRESHOLD, verification=VERIFICATION, comb_data=comb_data)\n",
    "        proliferations.append(s_pro)\n",
    "        objectives.append(s_obj)\n",
    "        concentrations.append(s_dos)\n",
    "        \n",
    "        if len(proliferations) % 5 == 0:\n",
    "            print(\"   ...%2d out of %d lambdas loaded...\" % (len(proliferations), len(lambdas)))\n",
    "    return proliferations, objectives, concentrations\n",
    "    \n",
    "def get_data_dual(lambdas):\n",
    "    comb_data = build_combined_dual_frame(retrieve_lines(TISSUE))\n",
    "    proliferations, objectives, concentrations = [], [], []\n",
    "    for lambd in lambdas:\n",
    "        treat, d_dos, d_pro, d_obj = best_dual_treatment(retrieve_lines(TISSUE), lambd=lambd, obj=OBJ, max_dosage=THRESHOLD, verification=VERIFICATION, comb_data=comb_data)\n",
    "        proliferations.append(d_pro)\n",
    "        objectives.append(d_obj)\n",
    "        concentrations.append(d_dos)\n",
    "        \n",
    "        if len(proliferations) % 5 == 0:\n",
    "            print(\"   ...%2d out of %d lambdas loaded...\" % (len(proliferations), len(lambdas)))\n",
    "    return proliferations, objectives, concentrations\n"
   ]
  },
  {
   "cell_type": "code",
   "execution_count": 7,
   "metadata": {},
   "outputs": [
    {
     "name": "stdout",
     "output_type": "stream",
     "text": [
      "Retrieving: Search results\n",
      "   ... 5 lambdas loaded...\n",
      "   ...10 lambdas loaded...\n",
      "   ...15 lambdas loaded...\n",
      "   ...20 lambdas loaded...\n",
      "   ...25 lambdas loaded...\n",
      "Total time:  0.5  seconds\n",
      "Retrieving: Single drug results\n",
      "   ... 5 out of 25 lambdas loaded...\n",
      "   ...10 out of 25 lambdas loaded...\n",
      "   ...15 out of 25 lambdas loaded...\n",
      "   ...20 out of 25 lambdas loaded...\n",
      "   ...25 out of 25 lambdas loaded...\n",
      "Total time:  7.52  seconds\n",
      "Retrieving: Dual drug results\n",
      "   ... 5 out of 25 lambdas loaded...\n",
      "   ...10 out of 25 lambdas loaded...\n",
      "   ...15 out of 25 lambdas loaded...\n",
      "   ...20 out of 25 lambdas loaded...\n",
      "   ...25 out of 25 lambdas loaded...\n",
      "Total time:  23.33  seconds\n",
      "Retrieving: All Single drug results\n",
      "Total time:  7.97  seconds\n",
      "Retrieving: All Dual drug results\n",
      "Total time:  24.95  seconds\n"
     ]
    }
   ],
   "source": [
    "t0 = time.time()\n",
    "print(\"Retrieving: Search results\")\n",
    "lambdas, search_prolifs, search_objectives, search_concentration, search_treatments = get_data_search()\n",
    "print(\"Total time: \", round(time.time() - t0, 2), \" seconds\")\n",
    "t0 = time.time()\n",
    "\n",
    "print(\"Retrieving: Single drug results\")\n",
    "single_prolifs, single_objectives, single_concentration = get_data_single(lambdas)\n",
    "print(\"Total time: \", round(time.time() - t0, 2), \" seconds\")\n",
    "t0 = time.time()\n",
    "\n",
    "print(\"Retrieving: Dual drug results\")\n",
    "dual_prolifs, dual_objectives, dual_concentration = get_data_dual(lambdas)\n",
    "print(\"Total time: \", round(time.time() - t0, 2), \" seconds\")\n",
    "t0 = time.time()\n",
    "\n",
    "print(\"Retrieving: All Single drug results\")\n",
    "best_drugs, single_all_concentrations, single_all_prolifs = best_single_treatment_by_dosage(retrieve_lines(TISSUE), obj=OBJ, path=\"./artifacts/baselines/\")\n",
    "print(\"Total time: \", round(time.time() - t0, 2), \" seconds\")\n",
    "t0 = time.time()\n",
    "\n",
    "print(\"Retrieving: All Dual drug results\")\n",
    "best_ratios, dual_all_concentrations, dual_all_prolifs = best_dual_treatment_by_dosage(retrieve_lines(TISSUE), obj=OBJ, path=\"./artifacts/baselines/\")\n",
    "print(\"Total time: \", round(time.time() - t0, 2), \" seconds\")\n"
   ]
  },
  {
   "cell_type": "code",
   "execution_count": 8,
   "metadata": {},
   "outputs": [],
   "source": [
    "# analyze number of used drugs\n",
    "thres_abs = 10\n",
    "thres_percent = 5\n",
    "n_drugs = []\n",
    "\n",
    "# determine number following criteria\n",
    "for i, treat in enumerate(search_treatments):\n",
    "    n_drugs.append(0)\n",
    "    for k in treat:\n",
    "        if treat[k] >= thres_abs and (treat[k] / search_concentration[i]) * 100 >= thres_percent:\n",
    "            n_drugs[-1] += 1\n",
    "    "
   ]
  },
  {
   "cell_type": "markdown",
   "metadata": {},
   "source": [
    "#### Create Plot"
   ]
  },
  {
   "cell_type": "code",
   "execution_count": 9,
   "metadata": {},
   "outputs": [
    {
     "data": {
      "image/png": "[encoded data removed]",
      "text/plain": [
       "<Figure size 432x288 with 1 Axes>"
      ]
     },
     "metadata": {
      "needs_background": "light"
     },
     "output_type": "display_data"
    }
   ],
   "source": [
    "# visualize dependence of objective and achieved proliferation for search results \n",
    "\n",
    "fig, ax = plt.subplots()\n",
    "fig.suptitle('Tissue: ' + TISSUE)\n",
    "\n",
    "l1, = ax.plot(lambdas, search_prolifs)\n",
    "l1.set_label(\"Relative proliferation\")\n",
    "\n",
    "l2, = ax.plot(lambdas, search_objectives)\n",
    "l2.set_label(\"Objective value\")\n",
    "\n",
    "ax.set_xscale('log')\n",
    "ax.set_xlabel(\"Penalty ($\\\\lambda$)\")\n",
    "#ax.set_ylabel(\"Relative proliferation and Objective value\")\n",
    "ax.legend()\n",
    "\n",
    "plt.show()"
   ]
  },
  {
   "cell_type": "code",
   "execution_count": 27,
   "metadata": {},
   "outputs": [],
   "source": [
    "# code to evaluate treatment composition\n",
    "#ticks = [\"$10^{-1}$\",\"\",\"\",\"\",\"$10^{-2}$\",\"\",\"\",\"\",\"$10^{-3}$\",\"\",\"\",\"\",\"$10^{-4}$\",\"\",\"\",\"\",\"$10^{-5}$\",\"\",\"\",\"\",\"$10^{-6}$\",\"\",\"\",\"\", \"$10^{-7}$\"]\n",
    "\n",
    "def plot_bar_chart(ax, df):\n",
    "    w = 0.45\n",
    "    ind = np.logspace(min(LAMBDAS), max(LAMBDAS), base=10.0, num=len(LAMBDAS))\n",
    "    widths = [x * 2.0 * (np.exp(w) - 1) / (np.exp(w) + 1) for x in ind]\n",
    "    bots = {}\n",
    "\n",
    "    bots[\"PD0325901\"] = np.zeros(len(ind))\n",
    "    bots[\"PLX-4720\"] = np.array(df[\"PD0325901\"]) + bots[\"PD0325901\"]\n",
    "    bots[\"Selumetinib\"] = np.array(df[\"PLX-4720\"]) + bots[\"PLX-4720\"]\n",
    "    bots[\"Lapatinib\"] = np.array(df[\"Selumetinib\"]) + bots[\"Selumetinib\"]\n",
    "    bots[\"Erlotinib\"] = np.array(df[\"Lapatinib\"]) + bots[\"Lapatinib\"]\n",
    "    bots[\"CHIR-265\"] = np.array(df[\"Erlotinib\"]) + bots[\"Erlotinib\"]\n",
    "    bots[\"Vandetanib\"] = np.array(df[\"CHIR-265\"]) + bots[\"CHIR-265\"]\n",
    "\n",
    "    p1 = plt.bar(ind, df[\"PD0325901\"], width=widths, edgecolor='white')\n",
    "    p2 = plt.bar(ind, df[\"PLX-4720\"], width=widths, bottom=bots[\"PLX-4720\"], edgecolor='white')\n",
    "    p3 = plt.bar(ind, df[\"Selumetinib\"], width=widths, bottom=bots[\"Selumetinib\"], edgecolor='white')\n",
    "    p4 = plt.bar(ind, df[\"Lapatinib\"], width=widths, bottom=bots[\"Lapatinib\"], edgecolor='white')\n",
    "    p5 = plt.bar(ind, df[\"Erlotinib\"], width=widths, bottom=bots[\"Erlotinib\"], edgecolor='white')\n",
    "    p6 = plt.bar(ind, df[\"CHIR-265\"], width=widths, bottom=bots[\"CHIR-265\"], edgecolor='white')\n",
    "    p7 = plt.bar(ind, df[\"Vandetanib\"], width=widths, bottom=bots[\"Vandetanib\"], edgecolor='white')\n",
    "\n",
    "    ax.set_ylabel(\"Total dosage (nM)\")\n",
    "    ax.set_yticks([0, 1000, 2000, 3000, 4000, 5000, 6000, 7000, 8000])\n",
    "    \n",
    "    ax.set_xlabel(\"Penalty ($\\\\lambda$)\")\n",
    "    #ax.set_xticks(lambdas)\n",
    "    #ax.set_xticklabels(ticks[::-1])\n",
    "    #ax.set_title('Treatment composition: Step ' + str(step))\n",
    "    ax.set_xscale('log')\n",
    "\n",
    "    plt.title\n",
    "    #plt.legend((p1[0], p2[0], p3[0], p4[0], p5[0], p6[0], p7[0]), \\\n",
    "    # ('PD0325901', 'PLX-4720', \"Selumetinib\", \"Lapatinib\", \"Erlotinib\", \"CHIR-265\", \"Vandetanib\"))\n",
    "    plt.legend((p7[0], p6[0], p5[0], p4[0], p3[0], p2[0], p1[0]), \\\n",
    "         ('Vandetanib', 'CHIR-265', \"Erlotinib\", \"Lapatinib\", \"Selumetinib\", \"PLX-4720\", \"PD0325901\"))\n",
    "\n",
    "    \n",
    "# create new dataframe from combined dictionary\n",
    "c1 = {}\n",
    "for k in search_treatments[0]:\n",
    "    c1[k] = []\n",
    "    \n",
    "for i, _ in enumerate(LAMBDAS):\n",
    "    for k in search_treatments[i]:\n",
    "        c1[k].append(int(search_treatments[i][k]))\n",
    "df1 = pd.DataFrame.from_dict(c1)\n"
   ]
  },
  {
   "cell_type": "code",
   "execution_count": 45,
   "metadata": {},
   "outputs": [
    {
     "ename": "TypeError",
     "evalue": "from_bounds() missing 2 required positional arguments: 'width' and 'height'",
     "output_type": "error",
     "traceback": [
      "\u001b[0;31m---------------------------------------------------------------------------\u001b[0m",
      "\u001b[0;31mTypeError\u001b[0m                                 Traceback (most recent call last)",
      "\u001b[0;32m<ipython-input-45-939c1176dc90>\u001b[0m in \u001b[0;36m<module>\u001b[0;34m\u001b[0m\n\u001b[1;32m     66\u001b[0m \u001b[0;31m# plt.subplots_adjust(left=0.0, right=0.0, top=0.0, bottom=0.0)\u001b[0m\u001b[0;34m\u001b[0m\u001b[0;34m\u001b[0m\u001b[0m\n\u001b[1;32m     67\u001b[0m \u001b[0mplt\u001b[0m\u001b[0;34m.\u001b[0m\u001b[0mtight_layout\u001b[0m\u001b[0;34m(\u001b[0m\u001b[0mpad\u001b[0m\u001b[0;34m=\u001b[0m\u001b[0;36m0.0\u001b[0m\u001b[0;34m,\u001b[0m \u001b[0mw_pad\u001b[0m\u001b[0;34m=\u001b[0m\u001b[0;36m0.0\u001b[0m\u001b[0;34m)\u001b[0m\u001b[0;34m\u001b[0m\u001b[0m\n\u001b[0;32m---> 68\u001b[0;31m \u001b[0max3\u001b[0m\u001b[0;34m.\u001b[0m\u001b[0mset_position\u001b[0m\u001b[0;34m(\u001b[0m\u001b[0;34m(\u001b[0m\u001b[0;36m1\u001b[0m\u001b[0;34m,\u001b[0m\u001b[0;36m0\u001b[0m\u001b[0;34m)\u001b[0m\u001b[0;34m)\u001b[0m\u001b[0;34m\u001b[0m\u001b[0m\n\u001b[0m\u001b[1;32m     69\u001b[0m \u001b[0;34m\u001b[0m\u001b[0m\n\u001b[1;32m     70\u001b[0m \u001b[0mplt\u001b[0m\u001b[0;34m.\u001b[0m\u001b[0msavefig\u001b[0m\u001b[0;34m(\u001b[0m\u001b[0;34m\"./notebooks/plots/multi_\"\u001b[0m \u001b[0;34m+\u001b[0m \u001b[0mTISSUE\u001b[0m \u001b[0;34m+\u001b[0m \u001b[0;34m\".pdf\"\u001b[0m\u001b[0;34m,\u001b[0m \u001b[0mbbox_inches\u001b[0m\u001b[0;34m=\u001b[0m\u001b[0;34m'tight'\u001b[0m\u001b[0;34m)\u001b[0m\u001b[0;34m\u001b[0m\u001b[0m\n",
      "\u001b[0;32m~/miniconda2/envs/py3/lib/python3.6/site-packages/matplotlib/axes/_base.py\u001b[0m in \u001b[0;36mset_position\u001b[0;34m(self, pos, which)\u001b[0m\n\u001b[1;32m    863\u001b[0m \u001b[0;34m\u001b[0m\u001b[0m\n\u001b[1;32m    864\u001b[0m         \"\"\"\n\u001b[0;32m--> 865\u001b[0;31m         \u001b[0mself\u001b[0m\u001b[0;34m.\u001b[0m\u001b[0m_set_position\u001b[0m\u001b[0;34m(\u001b[0m\u001b[0mpos\u001b[0m\u001b[0;34m,\u001b[0m \u001b[0mwhich\u001b[0m\u001b[0;34m=\u001b[0m\u001b[0mwhich\u001b[0m\u001b[0;34m)\u001b[0m\u001b[0;34m\u001b[0m\u001b[0m\n\u001b[0m\u001b[1;32m    866\u001b[0m         \u001b[0;31m# because this is being called externally to the library we\u001b[0m\u001b[0;34m\u001b[0m\u001b[0;34m\u001b[0m\u001b[0m\n\u001b[1;32m    867\u001b[0m         \u001b[0;31m# zero the constrained layout parts.\u001b[0m\u001b[0;34m\u001b[0m\u001b[0;34m\u001b[0m\u001b[0m\n",
      "\u001b[0;32m~/miniconda2/envs/py3/lib/python3.6/site-packages/matplotlib/axes/_base.py\u001b[0m in \u001b[0;36m_set_position\u001b[0;34m(self, pos, which)\u001b[0m\n\u001b[1;32m    877\u001b[0m         \"\"\"\n\u001b[1;32m    878\u001b[0m         \u001b[0;32mif\u001b[0m \u001b[0;32mnot\u001b[0m \u001b[0misinstance\u001b[0m\u001b[0;34m(\u001b[0m\u001b[0mpos\u001b[0m\u001b[0;34m,\u001b[0m \u001b[0mmtransforms\u001b[0m\u001b[0;34m.\u001b[0m\u001b[0mBboxBase\u001b[0m\u001b[0;34m)\u001b[0m\u001b[0;34m:\u001b[0m\u001b[0;34m\u001b[0m\u001b[0m\n\u001b[0;32m--> 879\u001b[0;31m             \u001b[0mpos\u001b[0m \u001b[0;34m=\u001b[0m \u001b[0mmtransforms\u001b[0m\u001b[0;34m.\u001b[0m\u001b[0mBbox\u001b[0m\u001b[0;34m.\u001b[0m\u001b[0mfrom_bounds\u001b[0m\u001b[0;34m(\u001b[0m\u001b[0;34m*\u001b[0m\u001b[0mpos\u001b[0m\u001b[0;34m)\u001b[0m\u001b[0;34m\u001b[0m\u001b[0m\n\u001b[0m\u001b[1;32m    880\u001b[0m         \u001b[0;32mfor\u001b[0m \u001b[0max\u001b[0m \u001b[0;32min\u001b[0m \u001b[0mself\u001b[0m\u001b[0;34m.\u001b[0m\u001b[0m_twinned_axes\u001b[0m\u001b[0;34m.\u001b[0m\u001b[0mget_siblings\u001b[0m\u001b[0;34m(\u001b[0m\u001b[0mself\u001b[0m\u001b[0;34m)\u001b[0m\u001b[0;34m:\u001b[0m\u001b[0;34m\u001b[0m\u001b[0m\n\u001b[1;32m    881\u001b[0m             \u001b[0;32mif\u001b[0m \u001b[0mwhich\u001b[0m \u001b[0;32min\u001b[0m \u001b[0;34m(\u001b[0m\u001b[0;34m'both'\u001b[0m\u001b[0;34m,\u001b[0m \u001b[0;34m'active'\u001b[0m\u001b[0;34m)\u001b[0m\u001b[0;34m:\u001b[0m\u001b[0;34m\u001b[0m\u001b[0m\n",
      "\u001b[0;31mTypeError\u001b[0m: from_bounds() missing 2 required positional arguments: 'width' and 'height'"
     ]
    },
    {
     "data": {
      "image/png": "[encoded data removed]",
      "text/plain": [
       "<Figure size 1123.2x234 with 3 Axes>"
      ]
     },
     "metadata": {
      "needs_background": "light"
     },
     "output_type": "display_data"
    }
   ],
   "source": [
    "# compare search with baselines with proliferation and objective value\n",
    "\n",
    "fig, (ax1, ax3, ax4) = plt.subplots(1, 3, figsize=(24 * .65,5 * .65)) # 4x1 format\n",
    "# fig, ((ax1, ax2), (ax3, ax4)) = plt.subplots(2, 2, figsize=(13,8)) # 2x2 format\n",
    "# fig.suptitle('Results multi-cell experiment: ' + TISSUE)\n",
    "# fig.suptitle('Tissue: ' + TISSUE)\n",
    "\n",
    "l1, = ax1.plot(lambdas, search_prolifs)\n",
    "l1.set_label(\"Optimization Result\")\n",
    "l2, = ax1.plot(lambdas, single_prolifs)\n",
    "l2.set_label(\"Best Single Drug\")\n",
    "l3, = ax1.plot(lambdas, dual_prolifs)\n",
    "l3.set_label(\"PD0325901 + PLX-4720\")\n",
    "\n",
    "# l4, = ax2.plot(lambdas, search_objectives)\n",
    "# l4.set_label(\"Optimization Result\")\n",
    "# l5, = ax2.plot(lambdas, single_objectives)\n",
    "# l5.set_label(\"Best Single Drug\")\n",
    "# l6, = ax2.plot(lambdas, dual_objectives)\n",
    "# l6.set_label(\"PD0325901 + PLX-4720\")\n",
    "\n",
    "l7, = ax3.plot(search_concentration, search_prolifs)\n",
    "l7.set_label(\"Optimization Result\")\n",
    "l8, = ax3.plot(single_all_concentrations, single_all_prolifs) \n",
    "l8.set_label(\"Best Single Drug\")\n",
    "l9, = ax3.plot(dual_all_concentrations, dual_all_prolifs)\n",
    "l9.set_label(\"PD0325901 + PLX-4720\")\n",
    "\n",
    "#l10, = ax4.plot(lambdas, n_drugs, \"o\")\n",
    "#l10.set_label(\"Search result\")\n",
    "plot_bar_chart(ax4, df1)\n",
    "\n",
    "\n",
    "ax1.set_xscale('log')\n",
    "ax1.set_xlabel(\"Penalty ($\\\\lambda$)\")\n",
    "ax1.set_ylabel(\"Maximum relative proliferation\")\n",
    "ax1.legend()\n",
    "ax1.grid(True)\n",
    "\n",
    "# ax2.set_xscale('log')\n",
    "# ax2.set_xlabel(\"Penalty ($\\\\lambda$)\")\n",
    "# ax2.set_ylabel(\"Objective value\")\n",
    "# ax2.legend()\n",
    "# ax2.grid(True)\n",
    "\n",
    "ax3.set_xlabel(\"Total dosage (nM)\")\n",
    "ax3.set_ylabel(\"Maximum relative proliferation\")\n",
    "ax3.set_xticks([0, 1000, 2000, 3000, 4000, 5000, 6000, 7000, 8000])\n",
    "ax3.legend()\n",
    "ax3.grid(True)\n",
    "\n",
    "# old plot: dosage vs. penalty\n",
    "#ax3.set_xscale('log')\n",
    "#ax3.set_xlabel(\"Penalty ($\\\\lambda$)\")\n",
    "#ax3.set_ylabel(\"Total dosage (nM)\")\n",
    "#ax3.set_yticks([0, 1000, 2000, 3000, 4000, 5000, 6000, 7000, 8000])\n",
    "#ax3.legend()\n",
    "#ax3.grid(True)\n",
    "\n",
    "#ax4.set_xscale('log')\n",
    "#ax4.set_xlabel(\"Penalty ($\\\\lambda$)\")\n",
    "#ax4.set_ylabel(\"Number of used drugs\")\n",
    "#ax4.set_yticks([0, 1, 2, 3, 4, 5])\n",
    "#ax4.grid(True)\n",
    "\n",
    "# plt.subplots_adjust(left=0.0, right=0.0, top=0.0, bottom=0.0)\n",
    "plt.tight_layout(pad=0.0, w_pad=0.0)\n",
    "ax3.set_position((1,0))\n",
    "\n",
    "plt.savefig(\"./notebooks/plots/multi_\" + TISSUE + \".pdf\", bbox_inches='tight')\n",
    "plt.savefig(\"./notebooks/plots/multi_\" + TISSUE + \".png\")\n",
    "plt.show()"
   ]
  },
  {
   "cell_type": "markdown",
   "metadata": {},
   "source": [
    "### Investigate the drugs used for the treatment"
   ]
  },
  {
   "cell_type": "markdown",
   "metadata": {},
   "source": [
    "Format treatments retrieved by search and see if the results are consistent."
   ]
  },
  {
   "cell_type": "code",
   "execution_count": null,
   "metadata": {},
   "outputs": [],
   "source": [
    "# create new dataframe from combined dictionary\n",
    "\n",
    "combined = {}\n",
    "combined[\"lambda\"] = []\n",
    "for k in search_treatments[0]:\n",
    "    combined[k] = []\n",
    "\n",
    "for i, la in enumerate(LAMBDAS):\n",
    "    combined[\"lambda\"].append(la)\n",
    "    for k in search_treatments[i]:\n",
    "        combined[k].append(int(search_treatments[i][k]))\n",
    "\n",
    "df = pd.DataFrame.from_dict(combined)\n",
    "df"
   ]
  },
  {
   "cell_type": "code",
   "execution_count": null,
   "metadata": {},
   "outputs": [],
   "source": [
    "# creat heat-map which shows results in percent\n",
    "\n",
    "# create new dataframe from combined dictionary\n",
    "\n",
    "combined = {}\n",
    "combined[\"lambda\"] = []\n",
    "for k in search_treatments[0]:\n",
    "    combined[k] = []\n",
    "\n",
    "for i, la in enumerate(LAMBDAS):\n",
    "    combined[\"lambda\"].append(la)\n",
    "    for k in search_treatments[i]:\n",
    "        combined[k].append(int(search_treatments[i][k]))\n",
    "\n",
    "df = pd.DataFrame.from_dict(combined)\n",
    "df"
   ]
  },
  {
   "cell_type": "code",
   "execution_count": null,
   "metadata": {},
   "outputs": [],
   "source": [
    "# Plot heatmap of treatmetn\n",
    "\n",
    "fig, ax = plt.subplots()\n",
    "\n",
    "combined = {}\n",
    "#combined[\"lambda\"] = []\n",
    "for k in search_treatments[0]:\n",
    "    combined[k] = []\n",
    "\n",
    "for i, la in enumerate(LAMBDAS):\n",
    " #   combined[\"lambda\"].append(la)\n",
    "    for k in search_treatments[i]:\n",
    "        combined[k].append(search_treatments[i][k])\n",
    "\n",
    "for k in search_treatments[0]:\n",
    "    combined[k] = reversed(combined[k])\n",
    "        \n",
    "df = pd.DataFrame.from_dict(combined)\n",
    "df_all_transposed = df.transpose()\n",
    "\n",
    "ticks = [\"$10^{-1}$\",\"\",\"\",\"\",\"$10^{-2}$\",\"\",\"\",\"\",\"$10^{-3}$\",\"\",\"\",\"\",\"$10^{-4}$\",\"\",\"\",\"\",\"$10^{-5}$\",\"\",\"\",\"\",\"$10^{-6}$\",\"\",\"\",\"\", \"$10^{-7}$\"]\n",
    "\n",
    "sns.heatmap(df_all_transposed, xticklabels=ticks, cmap=\"Reds\", ax=ax, cbar_kws={'label': 'Dosage (nM)'})\n",
    "plt.xlabel(\"Penalty ($\\\\lambda$)\")\n",
    "plt.show()"
   ]
  },
  {
   "cell_type": "code",
   "execution_count": null,
   "metadata": {},
   "outputs": [],
   "source": [
    "combined = {}\n",
    "#combined[\"lambda\"] = []\n",
    "for k in search_treatments[0]:\n",
    "    combined[k] = []\n",
    "\n",
    "for i, la in enumerate(LAMBDAS):\n",
    " #   combined[\"lambda\"].append(la)\n",
    "    for k in search_treatments[i]:\n",
    "        combined[k].append(search_treatments[i][k])\n"
   ]
  },
  {
   "cell_type": "code",
   "execution_count": null,
   "metadata": {},
   "outputs": [],
   "source": [
    "\n",
    "width = 0.59       # the width of the bars: can also be len(x) sequence\n",
    "ind = np.arange(len(LAMBDAS))    # the x locations for the groups\n",
    "bots = {}\n",
    "\n",
    "fig, ax = plt.subplots()\n",
    "\n",
    "bots[\"PD0325901\"] = np.zeros(len(LAMBDAS))\n",
    "bots[\"PLX-4720\"] = np.array(combined[\"PD0325901\"]) + bots[\"PD0325901\"]\n",
    "bots[\"Selumetinib\"] = np.array(combined[\"PLX-4720\"]) + bots[\"PLX-4720\"]\n",
    "bots[\"Lapatinib\"] = np.array(combined[\"Selumetinib\"]) + bots[\"Selumetinib\"]\n",
    "bots[\"Erlotinib\"] = np.array(combined[\"Lapatinib\"]) + bots[\"Lapatinib\"]\n",
    "bots[\"CHIR-265\"] = np.array(combined[\"Erlotinib\"]) + bots[\"Erlotinib\"]\n",
    "bots[\"Vandetanib\"] = np.array(combined[\"CHIR-265\"]) + bots[\"CHIR-265\"]\n",
    "\n",
    "p1 = plt.bar(ind, combined[\"PD0325901\"], width, edgecolor='white')\n",
    "p2 = plt.bar(ind, combined[\"PLX-4720\"], width, bottom=bots[\"PLX-4720\"], edgecolor='white')\n",
    "p3 = plt.bar(ind, combined[\"Selumetinib\"], width, bottom=bots[\"Selumetinib\"], edgecolor='white')\n",
    "p4 = plt.bar(ind, combined[\"Lapatinib\"], width, bottom=bots[\"Lapatinib\"], edgecolor='white')\n",
    "p5 = plt.bar(ind, combined[\"Erlotinib\"], width, bottom=bots[\"Erlotinib\"], edgecolor='white')\n",
    "p6 = plt.bar(ind, combined[\"CHIR-265\"], width, bottom=bots[\"CHIR-265\"], edgecolor='white')\n",
    "p7 = plt.bar(ind, combined[\"Vandetanib\"], width, bottom=bots[\"Vandetanib\"], edgecolor='white')\n",
    "\n",
    "ax.set_yticks([0, 1000, 2000, 3000, 4000, 5000, 6000, 7000, 8000])\n",
    "ax.set_xlabel(\"Penalty ($\\\\lambda$)\")\n",
    "\n",
    "plt.xticks(ind, ticks[::-1])\n",
    "plt.ylabel(\"Total dosage (nM)\")\n",
    "plt.title('Treatment composition')\n",
    "#plt.legend((p1[0], p2[0], p3[0], p4[0], p5[0], p6[0], p7[0]), \\\n",
    "# ('PD0325901', 'PLX-4720', \"Selumetinib\", \"Lapatinib\", \"Erlotinib\", \"CHIR-265\", \"Vandetanib\"))\n",
    "plt.legend((p7[0], p6[0], p5[0], p4[0], p3[0], p2[0], p1[0]), \\\n",
    "     ('Vandetanib', 'CHIR-265', \"Erlotinib\", \"Lapatinib\", \"Selumetinib\", \"PLX-4720\", \"PD0325901\"))\n",
    "\n",
    "plt.show()"
   ]
  },
  {
   "cell_type": "code",
   "execution_count": null,
   "metadata": {},
   "outputs": [],
   "source": [
    "for k in search_treatments[0]:\n",
    "    print(k)"
   ]
  },
  {
   "cell_type": "code",
   "execution_count": null,
   "metadata": {},
   "outputs": [],
   "source": [
    "np.array(combined[\"Vandetanib\"])"
   ]
  },
  {
   "cell_type": "code",
   "execution_count": null,
   "metadata": {},
   "outputs": [],
   "source": []
  }
 ],
 "metadata": {
  "kernelspec": {
   "display_name": "Python 3",
   "language": "python",
   "name": "python3"
  },
  "language_info": {
   "codemirror_mode": {
    "name": "ipython",
    "version": 3
   },
   "file_extension": ".py",
   "mimetype": "text/x-python",
   "name": "python",
   "nbconvert_exporter": "python",
   "pygments_lexer": "ipython3",
   "version": "3.6.5"
  }
 },
 "nbformat": 4,
 "nbformat_minor": 2
}
