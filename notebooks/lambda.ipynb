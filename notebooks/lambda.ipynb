{
 "cells": [
  {
   "cell_type": "markdown",
   "metadata": {},
   "source": [
    "# Determination of lambda"
   ]
  },
  {
   "cell_type": "markdown",
   "metadata": {},
   "source": [
    "The purpose of this notebook is to settle on a parameter lambda for the objective function."
   ]
  },
  {
   "cell_type": "code",
   "execution_count": 1,
   "metadata": {},
   "outputs": [],
   "source": [
    "# Adapt path to allow imports from project\n",
    "import os\n",
    "os.chdir(\"..\")"
   ]
  },
  {
   "cell_type": "code",
   "execution_count": 2,
   "metadata": {},
   "outputs": [],
   "source": [
    "# Relevant imports from project\n",
    "from src.env.objectives import SingleLinear\n",
    "from src.baseline.evaluate import best_single_treatment\n",
    "from src.env.cell_lines import retrieve_lines\n",
    "from src.env.drugs import DRUGS\n",
    "import matplotlib.pyplot as plt\n",
    "from matplotlib.backends.backend_pdf import PdfPages"
   ]
  },
  {
   "cell_type": "code",
   "execution_count": 3,
   "metadata": {},
   "outputs": [],
   "source": [
    "# need function that identifies best single cell treatment for given objective\n",
    "# iterate through candidates for lambda\n",
    "# create plot\n",
    "# look at single drug plots\n",
    "# look at combined drug plots\n",
    "# look at single and multi cell plots"
   ]
  },
  {
   "cell_type": "markdown",
   "metadata": {},
   "source": [
    "### Create plots using single treatment baseline"
   ]
  },
  {
   "cell_type": "code",
   "execution_count": 4,
   "metadata": {},
   "outputs": [],
   "source": [
    "# proliferation\n",
    "def plot_tradeoff(line, lambdas, drugs):\n",
    "    fig, (ax1, ax2) = plt.subplots(1, 2, figsize=(10,5))\n",
    "    fig.suptitle('Penalty tradeoff: ' + line)\n",
    "    \n",
    "    \n",
    "    for d in drugs:\n",
    "        res = [best_single_treatment([line], lambd=l, drugs=[d], max_dosage=8000, path=\"./../artifacts/baselines/\") for l in lambdas]\n",
    "        ds = [r[1] for r in res]\n",
    "        ys = [r[2] for r in res]\n",
    "        l1, = ax1.plot(lambdas, ys)\n",
    "        l1.set_label(d)\n",
    "        l2, = ax2.plot(lambdas, ds)\n",
    "        l2.set_label(d)\n",
    "        \n",
    "    ax1.set_xscale('log')\n",
    "    ax1.set_xlabel(\"lambda\")\n",
    "    ax1.set_ylabel(\"relative proliferation\")\n",
    "    \n",
    "    ax2.set_xscale('log')\n",
    "    ax2.set_xlabel(\"lambda\")\n",
    "    ax2.set_ylabel(\"dosage (nm)\")\n",
    "    ax2.legend()\n",
    "\n",
    "    plt.show()\n",
    "    \n",
    "# proliferation\n",
    "def plot_average(lines, name, lambdas): # plot single best with light coloring\n",
    "\n",
    "    fig, (ax1, ax2) = plt.subplots(1, 2, figsize=(10,5))\n",
    "    fig.suptitle('Average: ' + name + \" tissue cell-lines\")\n",
    "    \n",
    "    res = {}\n",
    "    ds = [0 for _ in lambdas]\n",
    "    ys = [0 for _ in lambdas]\n",
    "    for line in lines:\n",
    "        print(line)\n",
    "        res[line] = [best_single_treatment([line], lambd=l, max_dosage=8000, path=\"./../artifacts/baselines/\") for l in lambdas]\n",
    "        dd = [r[1] for r in res[line]]\n",
    "        yy = [r[2] for r in res[line]]\n",
    "        ax1.plot(lambdas, yy, alpha=0.1, color=\"gray\")\n",
    "        ax2.plot(lambdas, dd, alpha=0.1, color=\"gray\")\n",
    "        \n",
    "        for i, _ in enumerate(lambdas):\n",
    "            ds[i] += res[line][i][1]\n",
    "            ys[i] += res[line][i][2]\n",
    "\n",
    "    ds = [d / len(lines) for d in ds]\n",
    "    ys = [y / len(lines) for y in ys]\n",
    "\n",
    "    ax1.plot(lambdas, ys, color=\"blue\", alpha=1.0)\n",
    "    ax1.set_xscale('log')\n",
    "    ax1.set_xlabel(\"lambda\")\n",
    "    ax1.set_ylabel(\"relative proliferation\")\n",
    "\n",
    "    ax2.plot(lambdas, ds, color=\"blue\")\n",
    "    ax2.set_xscale('log')\n",
    "    ax2.set_xlabel(\"lambda\")\n",
    "    ax2.set_ylabel(\"dosage (nm)\")\n",
    "\n",
    "    plt.savefig(\"./notebooks/plots/average_\" + name +  \".png\")\n",
    "    plt.show()\n",
    "    \n",
    "def plot_worst(lines, name, lambdas):\n",
    "\n",
    "    fig, (ax1, ax2) = plt.subplots(1, 2, figsize=(10,5))\n",
    "    fig.suptitle('Worst case: ' + name + \" tissue cell-lines\")\n",
    "    \n",
    "    res = {}\n",
    "    ds = [0 for _ in lambdas]\n",
    "    ys = [0 for _ in lambdas]\n",
    "    for line in lines:\n",
    "        print(line)\n",
    "        res[line] = [best_single_treatment([line], lambd=l, max_dosage=8000, path=\"./../artifacts/baselines/\") for l in lambdas]\n",
    "        dd = [r[1] for r in res[line]]\n",
    "        yy = [r[2] for r in res[line]]\n",
    "        ax1.plot(lambdas, yy, alpha=0.1, color=\"gray\")\n",
    "        ax2.plot(lambdas, dd, alpha=0.1, color=\"gray\")\n",
    "        \n",
    "        for i, _ in enumerate(lambdas):\n",
    "            if ys[i] <= res[line][i][2]:\n",
    "                ds[i] = res[line][i][1]\n",
    "            ys[i] = max(ys[i], res[line][i][2])\n",
    "\n",
    "    ds = [d for d in ds]\n",
    "    ys = [y for y in ys]\n",
    "\n",
    "    ax1.plot(lambdas, ys, color=\"blue\", alpha=1.0)\n",
    "    ax1.set_xscale('log')\n",
    "    ax1.set_xlabel(\"lambda\")\n",
    "    ax1.set_ylabel(\"relative proliferation\")\n",
    "\n",
    "    ax2.plot(lambdas, ds, color=\"blue\")\n",
    "    ax2.set_xscale('log')\n",
    "    ax2.set_xlabel(\"lambda\")\n",
    "    ax2.set_ylabel(\"dosage (nm)\")\n",
    "\n",
    "    plt.savefig(\"./notebooks/plots/max_\" + name +  \".png\")\n",
    "    plt.show()"
   ]
  },
  {
   "cell_type": "code",
   "execution_count": 5,
   "metadata": {},
   "outputs": [],
   "source": [
    "lambdas = [10 ** (-0.1 * i) for i in range(100)]"
   ]
  },
  {
   "cell_type": "code",
   "execution_count": null,
   "metadata": {},
   "outputs": [],
   "source": [
    "plot_average(retrieve_lines(\"skin\"), \"skin\", lambdas)"
   ]
  },
  {
   "cell_type": "code",
   "execution_count": null,
   "metadata": {},
   "outputs": [],
   "source": [
    "plot_average(retrieve_lines(\"intestine\"), \"large-intestine\", lambdas)"
   ]
  },
  {
   "cell_type": "code",
   "execution_count": null,
   "metadata": {},
   "outputs": [],
   "source": [
    "plot_worst(retrieve_lines(\"skin\"), \"skin\", lambdas)"
   ]
  },
  {
   "cell_type": "code",
   "execution_count": null,
   "metadata": {},
   "outputs": [],
   "source": [
    "plot_worst(retrieve_lines(\"intestine\"), \"large-intestine\", lambdas)"
   ]
  },
  {
   "cell_type": "code",
   "execution_count": 6,
   "metadata": {},
   "outputs": [],
   "source": [
    "# created pdf with overview plots\n",
    "cell_lines = []\n",
    "cell_lines = retrieve_lines(\"skin\")\n",
    "cell_lines.extend(retrieve_lines(\"intestine\"))"
   ]
  },
  {
   "cell_type": "code",
   "execution_count": 7,
   "metadata": {},
   "outputs": [
    {
     "name": "stdout",
     "output_type": "stream",
     "text": [
      "A2058\n",
      "C32\n"
     ]
    }
   ],
   "source": [
    "with PdfPages('./notebooks/plots/individual_lambda.pdf') as pdf:\n",
    "    \n",
    "    for line in cell_lines:\n",
    "        print(line)\n",
    "        fig, (ax1, ax2) = plt.subplots(1, 2, figsize=(10,5))\n",
    "        fig.suptitle('Penalty tradeoff: ' + line)\n",
    "\n",
    "        for d in DRUGS:       \n",
    "            res = [best_single_treatment([line], lambd=l, drugs=[d], max_dosage=8000, path=\"./../artifacts/baselines/\") for l in lambdas]\n",
    "            ds = [r[1] for r in res]\n",
    "            ys = [r[2] for r in res]\n",
    "            l1, = ax1.plot(lambdas, ys)\n",
    "            l1.set_label(d)\n",
    "            l2, = ax2.plot(lambdas, ds)\n",
    "            l2.set_label(d)\n",
    "\n",
    "        ax1.set_xscale('log')\n",
    "        ax1.set_xlabel(\"lambda\")\n",
    "        ax1.set_ylabel(\"relative proliferation\")\n",
    "\n",
    "        ax2.set_xscale('log')\n",
    "        ax2.set_xlabel(\"lambda\")\n",
    "        ax2.set_ylabel(\"dosage (nm)\")\n",
    "        ax2.legend()\n",
    "\n",
    "        pdf.savefig()  # saves the current figure into a pdf page\n",
    "        plt.close()\n"
   ]
  },
  {
   "cell_type": "code",
   "execution_count": null,
   "metadata": {},
   "outputs": [],
   "source": []
  }
 ],
 "metadata": {
  "kernelspec": {
   "display_name": "vbio",
   "language": "python",
   "name": "vbio"
  },
  "language_info": {
   "codemirror_mode": {
    "name": "ipython",
    "version": 3
   },
   "file_extension": ".py",
   "mimetype": "text/x-python",
   "name": "python",
   "nbconvert_exporter": "python",
   "pygments_lexer": "ipython3",
   "version": "3.6.9"
  }
 },
 "nbformat": 4,
 "nbformat_minor": 2
}
